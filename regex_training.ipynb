{
 "cells": [
  {
   "cell_type": "code",
   "execution_count": 2,
   "metadata": {},
   "outputs": [
    {
     "name": "stdout",
     "output_type": "stream",
     "text": [
      "there was a lion! act carefully. 2 hours later the kid came with a fur of the lion. then said don't be afraid to his father. this is end of the story. go johnny go\n",
      "\n",
      "\n",
      "matched result = None, searched result = <re.Match object; span=(125, 129), match='this'>, all_finded result = ['this']\n",
      "finditer result = <re.Match object; span=(125, 129), match='this'>\n"
     ]
    }
   ],
   "source": [
    "import re\n",
    "text = \"There was a lion! Act carefully. 2 hours later the kid came with a fur of the lion. Then said don't be afraid to his father. This is end of the story. go johnny go\"\n",
    "text = text.lower()\n",
    "print(text)\n",
    "print(\"\\n\")\n",
    "test_string = re.compile(r\"this\")\n",
    "\n",
    "matched = test_string.match(text)   # returns if the given pattern is exist at the start of the text. else -> None\n",
    "searched = test_string.search(text)  # it searches everywhere\n",
    "all_finded = test_string.findall(text)   # finds all of the given pattern\n",
    "\n",
    "print(f\"matched result = {matched}, searched result = {searched}, all_finded result = {all_finded}\")\n",
    "\n",
    "for i in test_string.finditer(text):    # finds all and returns them as an iterator.\n",
    "    print(f\"finditer result = {i}\")\n"
   ]
  },
  {
   "cell_type": "code",
   "execution_count": 3,
   "metadata": {},
   "outputs": [
    {
     "name": "stdout",
     "output_type": "stream",
     "text": [
      "this\n",
      "125\n",
      "129\n",
      "(125, 129)\n"
     ]
    }
   ],
   "source": [
    "for i in test_string.finditer(text):\n",
    "    print(i.group())   # return the given pattern \n",
    "    print(i.start())    # return the index where finded pattern starts\n",
    "    print(i.end())      # return the index where finded pattern ends\n",
    "    print(i.span())     # return start and end indexes as a tuple\n"
   ]
  },
  {
   "cell_type": "code",
   "execution_count": 4,
   "metadata": {},
   "outputs": [
    {
     "name": "stdout",
     "output_type": "stream",
     "text": [
      "['t', 'h', 'e', 'r', 'e', ' ', 'w', 'a', 's', ' ', 'a', ' ', 'l', 'i', 'o', 'n', '!', ' ', 'a', 'c', 't', ' ', 'c', 'a', 'r', 'e', 'f', 'u', 'l', 'l', 'y', '.', ' ', '2', ' ', 'h', 'o', 'u', 'r', 's', ' ', 'l', 'a', 't', 'e', 'r', ' ', 't', 'h', 'e', ' ', 'k', 'i', 'd', ' ', 'c', 'a', 'm', 'e', ' ', 'w', 'i', 't', 'h', ' ', 'a', ' ', 'f', 'u', 'r', ' ', 'o', 'f', ' ', 't', 'h', 'e', ' ', 'l', 'i', 'o', 'n', '.', ' ', 't', 'h', 'e', 'n', ' ', 's', 'a', 'i', 'd', ' ', 'd', 'o', 'n', \"'\", 't', ' ', 'b', 'e', ' ', 'a', 'f', 'r', 'a', 'i', 'd', ' ', 't', 'o', ' ', 'h', 'i', 's', ' ', 'f', 'a', 't', 'h', 'e', 'r', '.', ' ', 't', 'h', 'i', 's', ' ', 'i', 's', ' ', 'e', 'n', 'd', ' ', 'o', 'f', ' ', 't', 'h', 'e', ' ', 's', 't', 'o', 'r', 'y', '.', ' ', 'g', 'o', ' ', 'j', 'o', 'h', 'n', 'n', 'y', ' ', 'g', 'o']\n"
     ]
    }
   ],
   "source": [
    "test_pattern = re.compile(r\".\")        #   .   ->  matches any character except a new line.\n",
    "print(test_pattern.findall(text))"
   ]
  },
  {
   "cell_type": "code",
   "execution_count": 5,
   "metadata": {},
   "outputs": [
    {
     "name": "stdout",
     "output_type": "stream",
     "text": [
      "<re.Match object; span=(0, 4), match='this'>\n",
      "['this']\n"
     ]
    }
   ],
   "source": [
    "text2 = \"this is what is this\"\n",
    "test_pattern2 = re.compile(r\"^this\")    #    ^   -> matches the start of the string.\n",
    "print(test_pattern2.search(text2))\n",
    "print(test_pattern2.findall(text2))"
   ]
  },
  {
   "cell_type": "code",
   "execution_count": 6,
   "metadata": {},
   "outputs": [
    {
     "name": "stdout",
     "output_type": "stream",
     "text": [
      "['t', 'h', 'e', 'r', 'e', ' ', 'w', 's', ' ', ' ', 'l', 'i', 'o', 'n', '!', ' ', 't', ' ', 'r', 'e', 'f', 'u', 'l', 'l', 'y', '.', ' ', '2', ' ', 'h', 'o', 'u', 'r', 's', ' ', 'l', 't', 'e', 'r', ' ', 't', 'h', 'e', ' ', 'k', 'i', 'd', ' ', 'm', 'e', ' ', 'w', 'i', 't', 'h', ' ', ' ', 'f', 'u', 'r', ' ', 'o', 'f', ' ', 't', 'h', 'e', ' ', 'l', 'i', 'o', 'n', '.', ' ', 't', 'h', 'e', 'n', ' ', 's', 'i', 'd', ' ', 'd', 'o', 'n', \"'\", 't', ' ', 'e', ' ', 'f', 'r', 'i', 'd', ' ', 't', 'o', ' ', 'h', 'i', 's', ' ', 'f', 't', 'h', 'e', 'r', '.', ' ', 't', 'h', 'i', 's', ' ', 'i', 's', ' ', 'e', 'n', 'd', ' ', 'o', 'f', ' ', 't', 'h', 'e', ' ', 's', 't', 'o', 'r', 'y', '.', ' ', 'g', 'o', ' ', 'j', 'o', 'h', 'n', 'n', 'y', ' ', 'g', 'o']\n"
     ]
    }
   ],
   "source": [
    "test_pattern3 = re.compile(r\"[^abc]\")   #  matches any char other than a, b and c.\n",
    "print(test_pattern3.findall(text))"
   ]
  },
  {
   "cell_type": "code",
   "execution_count": 7,
   "metadata": {},
   "outputs": [
    {
     "name": "stdout",
     "output_type": "stream",
     "text": [
      "<re.Match object; span=(16, 20), match='this'>\n",
      "['this']\n"
     ]
    }
   ],
   "source": [
    "test_pattern4 = re.compile(r\"this$\")   #  $  ->  matches the end of the sting.\n",
    "print(test_pattern4.search(text2))\n",
    "print(test_pattern4.findall(text2))"
   ]
  },
  {
   "cell_type": "code",
   "execution_count": 8,
   "metadata": {},
   "outputs": [
    {
     "name": "stdout",
     "output_type": "stream",
     "text": [
      "<re.Match object; span=(97, 98), match=\"'\">\n",
      "['t', 'h', 'e', 'r', 'e', 'w', 'a', 's', 'a', 'l', 'i', 'o', 'n', 'a', 'c', 't', 'c', 'a', 'r', 'e', 'f', 'u', 'l', 'l', 'y', '2', 'h', 'o', 'u', 'r', 's', 'l', 'a', 't', 'e', 'r', 't', 'h', 'e', 'k', 'i', 'd', 'c', 'a', 'm', 'e', 'w', 'i', 't', 'h', 'a', 'f', 'u', 'r', 'o', 'f', 't', 'h', 'e', 'l', 'i', 'o', 'n', 't', 'h', 'e', 'n', 's', 'a', 'i', 'd', 'd', 'o', 'n', 't', 'b', 'e', 'a', 'f', 'r', 'a', 'i', 'd', 't', 'o', 'h', 'i', 's', 'f', 'a', 't', 'h', 'e', 'r', 't', 'h', 'i', 's', 'i', 's', 'e', 'n', 'd', 'o', 'f', 't', 'h', 'e', 's', 't', 'o', 'r', 'y', 'g', 'o', 'j', 'o', 'h', 'n', 'n', 'y', 'g', 'o']\n",
      "<re.Match object; span=(97, 98), match=\"'\">\n"
     ]
    }
   ],
   "source": [
    "test_pattern5 = re.compile(r\"\\'\")   #   \\   ->   permiting you to search any metachars. or a special sequence(for example \\w referring a alphanumerical seq.)\n",
    "print(test_pattern5.search(text))\n",
    "test_pattern6 = re.compile(r\"\\w\")\n",
    "print(test_pattern6.findall(text))\n",
    "test_pattern7 = re.compile(\"\\'\")\n",
    "print(test_pattern7.search(text))"
   ]
  },
  {
   "cell_type": "code",
   "execution_count": 9,
   "metadata": {},
   "outputs": [
    {
     "name": "stdout",
     "output_type": "stream",
     "text": [
      "['h', 'e', 'r', 'e', ' ', 'w', 'a', 's', ' ', 'a', ' ', 'l', 'i', 'o', 'n', '!', ' ', 'a', 'c', ' ', 'c', 'a', 'r', 'e', 'f', 'u', 'l', 'l', 'y', '.', ' ', '2', ' ', 'h', 'o', 'u', 'r', 's', ' ', 'l', 'a', 'e', 'r', ' ', 'h', 'e', ' ', 'k', 'i', 'd', ' ', 'c', 'a', 'm', 'e', ' ', 'w', 'i', 'h', ' ', 'a', ' ', 'f', 'u', 'r', ' ', 'o', 'f', ' ', 'h', 'e', ' ', 'l', 'i', 'o', 'n', '.', ' ', 'h', 'e', 'n', ' ', 's', 'a', 'i', 'd', ' ', 'd', 'o', 'n', \"'\", ' ', 'b', 'e', ' ', 'a', 'f', 'r', 'a', 'i', 'd', ' ', 'o', ' ', 'h', 'i', 's', ' ', 'f', 'a', 'h', 'e', 'r', '.', ' ', 'h', 'i', 's', ' ', 'i', 's', ' ', 'e', 'n', 'd', ' ', 'o', 'f', ' ', 'h', 'e', ' ', 's', 'o', 'r', 'y', '.', ' ', 'g', 'o', ' ', 'j', 'o', 'h', 'n', 'n', 'y', ' ', 'g', 'o']\n",
      "['2']\n",
      "['!', '.', ' 2', '.', \"'\", '.', '.']\n",
      "[' was ', ' act ', ' the ', ' fur ', ' the ', ' his ', ' end ', ' the ']\n"
     ]
    }
   ],
   "source": [
    "# [], [a-z], [A-Z], [0-9], [abc], [a-zA-z], [a-zA-z0-9] matches any of them provided. [^a] matches any of them except \"a\".\n",
    "\n",
    "test_pattern8 = re.compile(r\"[^t]\")\n",
    "print(test_pattern8.findall(text))\n",
    "test_pattern9 = re.compile(r\"[A-Z0-9]\")\n",
    "print(test_pattern9.findall(text))\n",
    "test_pattern10 = re.compile(r\"[^a-z A-Z 0-9]| [2]\")\n",
    "print(test_pattern10.findall(text))\n",
    "test_pattern11 = re.compile(r\" [a-z][a-z][a-z] \")\n",
    "print(test_pattern11.findall(text))"
   ]
  },
  {
   "cell_type": "code",
   "execution_count": 10,
   "metadata": {},
   "outputs": [
    {
     "name": "stdout",
     "output_type": "stream",
     "text": [
      "[' ', ' ', ' ', '!', ' ', ' ', '.', ' ', ' ', ' ', ' ', ' ', ' ', ' ', ' ', ' ', ' ', ' ', ' ', '.', ' ', ' ', ' ', \"'\", ' ', ' ', ' ', ' ', ' ', '.', ' ', ' ', ' ', ' ', ' ', ' ', '.', ' ', ' ', ' ']\n"
     ]
    }
   ],
   "source": [
    "test_pattern12 = re.compile(r\"\\W\")   # the opposite of \\w\n",
    "print(test_pattern12.findall(text))"
   ]
  },
  {
   "cell_type": "code",
   "execution_count": 11,
   "metadata": {},
   "outputs": [
    {
     "name": "stdout",
     "output_type": "stream",
     "text": [
      "['2']\n",
      "['t', 'h', 'e', 'r', 'e', ' ', 'w', 'a', 's', ' ', 'a', ' ', 'l', 'i', 'o', 'n', '!', ' ', 'a', 'c', 't', ' ', 'c', 'a', 'r', 'e', 'f', 'u', 'l', 'l', 'y', '.', ' ', ' ', 'h', 'o', 'u', 'r', 's', ' ', 'l', 'a', 't', 'e', 'r', ' ', 't', 'h', 'e', ' ', 'k', 'i', 'd', ' ', 'c', 'a', 'm', 'e', ' ', 'w', 'i', 't', 'h', ' ', 'a', ' ', 'f', 'u', 'r', ' ', 'o', 'f', ' ', 't', 'h', 'e', ' ', 'l', 'i', 'o', 'n', '.', ' ', 't', 'h', 'e', 'n', ' ', 's', 'a', 'i', 'd', ' ', 'd', 'o', 'n', \"'\", 't', ' ', 'b', 'e', ' ', 'a', 'f', 'r', 'a', 'i', 'd', ' ', 't', 'o', ' ', 'h', 'i', 's', ' ', 'f', 'a', 't', 'h', 'e', 'r', '.', ' ', 't', 'h', 'i', 's', ' ', 'i', 's', ' ', 'e', 'n', 'd', ' ', 'o', 'f', ' ', 't', 'h', 'e', ' ', 's', 't', 'o', 'r', 'y', '.', ' ', 'g', 'o', ' ', 'j', 'o', 'h', 'n', 'n', 'y', ' ', 'g', 'o']\n",
      "[' ', ' ', ' ', ' ', ' ', ' ', ' ', ' ', ' ', ' ', ' ', ' ', ' ', ' ', ' ', ' ', ' ', ' ', ' ', ' ', ' ', ' ', ' ', ' ', ' ', ' ', ' ', ' ', ' ', ' ', ' ', ' ', ' ', ' ']\n",
      "['t', 'h', 'e', 'r', 'e', 'w', 'a', 's', 'a', 'l', 'i', 'o', 'n', '!', 'a', 'c', 't', 'c', 'a', 'r', 'e', 'f', 'u', 'l', 'l', 'y', '.', '2', 'h', 'o', 'u', 'r', 's', 'l', 'a', 't', 'e', 'r', 't', 'h', 'e', 'k', 'i', 'd', 'c', 'a', 'm', 'e', 'w', 'i', 't', 'h', 'a', 'f', 'u', 'r', 'o', 'f', 't', 'h', 'e', 'l', 'i', 'o', 'n', '.', 't', 'h', 'e', 'n', 's', 'a', 'i', 'd', 'd', 'o', 'n', \"'\", 't', 'b', 'e', 'a', 'f', 'r', 'a', 'i', 'd', 't', 'o', 'h', 'i', 's', 'f', 'a', 't', 'h', 'e', 'r', '.', 't', 'h', 'i', 's', 'i', 's', 'e', 'n', 'd', 'o', 'f', 't', 'h', 'e', 's', 't', 'o', 'r', 'y', '.', 'g', 'o', 'j', 'o', 'h', 'n', 'n', 'y', 'g', 'o']\n"
     ]
    }
   ],
   "source": [
    "test_pattern13 = re.compile(r\"\\d\")  # equivalent to [0-9]\n",
    "print(test_pattern13.findall(text))\n",
    "test_pattern14 = re.compile(r\"\\D\")    # equivalent to [^0-9]\n",
    "print(test_pattern14.findall(text))\n",
    "test_pattern15 = re.compile(r\"\\s\")    # any white space. equivalent to [\\t\\n\\r\\f\\v]\n",
    "print(test_pattern15.findall(text))\n",
    "test_pattern16 = re.compile(r\"\\S\")     # equivalent to equivalent to [^\\t\\n\\r\\f\\v]\n",
    "print(test_pattern16.findall(text))"
   ]
  },
  {
   "cell_type": "code",
   "execution_count": 12,
   "metadata": {},
   "outputs": [
    {
     "name": "stdout",
     "output_type": "stream",
     "text": [
      "[' wa', ' li', ' ac', ' ca', ' ho', ' la', ' th', ' ki', ' ca', ' wi', ' fu', ' of', ' th', ' li', ' th', ' sa', ' do', ' be', ' af', ' to', ' hi', ' fa', ' th', ' is', ' en', ' of', ' th', ' st', ' go', ' jo', ' go']\n"
     ]
    }
   ],
   "source": [
    "test_pattern17 = re.compile(r\"\\s\\w\\w\")\n",
    "print(test_pattern17.findall(text))"
   ]
  },
  {
   "cell_type": "code",
   "execution_count": 13,
   "metadata": {},
   "outputs": [
    {
     "name": "stdout",
     "output_type": "stream",
     "text": [
      "['th', 'th', 'th', 'th', 'th', 'th', 'th']\n",
      "['go', 'go']\n"
     ]
    }
   ],
   "source": [
    "test_pattern18 = re.compile(r\"th\\B\")\n",
    "print(test_pattern18.findall(text))\n",
    "test_pattern19 = re.compile(r\"\\bgo\\b\")\n",
    "print(test_pattern19.findall(text))"
   ]
  },
  {
   "cell_type": "code",
   "execution_count": 14,
   "metadata": {},
   "outputs": [
    {
     "name": "stdout",
     "output_type": "stream",
     "text": [
      "['th', 't', 't', 'th', 'th', 'th', 'th', 't', 't', 'th', 'th', 'th', 't']\n"
     ]
    }
   ],
   "source": [
    "test_pattern20 = re.compile(r\"th*\") # that matches any number of \"t\", \"th\" or \"t\" followed by any number of \"h\"s\n",
    "print(test_pattern20.findall(text))"
   ]
  },
  {
   "cell_type": "code",
   "execution_count": 15,
   "metadata": {},
   "outputs": [
    {
     "name": "stdout",
     "output_type": "stream",
     "text": [
      "['li', 'li']\n",
      "<re.Match object; span=(12, 14), match='li'>\n"
     ]
    }
   ],
   "source": [
    "test_pattern21 = re.compile(r\"li+\")  # it will not match just \"l\", \"li\" or any number of \"i\"s\n",
    "print(test_pattern21.findall(text))\n",
    "print(test_pattern21.search(text))"
   ]
  },
  {
   "cell_type": "code",
   "execution_count": 16,
   "metadata": {},
   "outputs": [
    {
     "name": "stdout",
     "output_type": "stream",
     "text": [
      "['a', 'a', 'a', 'a', 'at', 'a', 'a', 'a', 'a', 'a', 'at']\n",
      "\n",
      "test_pattern22 = re.compile(r\"at+?\")\n",
      "output : ['at', 'at']\n",
      "\n",
      "test_pattern22 = re.compile(r\"at??\")\n",
      "output : ['a', 'a', 'a', 'a', 'a', 'a', 'a', 'a', 'a', 'a', 'a']\n",
      "\n"
     ]
    }
   ],
   "source": [
    "test_pattern22 = re.compile(r\"at?\")  # matches \"a\" OR \"at\"\n",
    "print(test_pattern22.findall(text))\n",
    "\n",
    "print(\n",
    "\"\"\"\n",
    "test_pattern22 = re.compile(r\"at+?\")\n",
    "output : ['at', 'at']\n",
    "\n",
    "test_pattern22 = re.compile(r\"at??\")\n",
    "output : ['a', 'a', 'a', 'a', 'a', 'a', 'a', 'a', 'a', 'a', 'a']\n",
    "\"\"\"\n",
    ")"
   ]
  },
  {
   "cell_type": "code",
   "execution_count": 17,
   "metadata": {},
   "outputs": [
    {
     "data": {
      "text/plain": [
       "['can', 'man', 'fan']"
      ]
     },
     "execution_count": 17,
     "metadata": {},
     "output_type": "execute_result"
    }
   ],
   "source": [
    "test_str = \"\"\"\n",
    "can\n",
    "man\n",
    "fan\n",
    "dan\n",
    "ran\n",
    "pan\n",
    "\"\"\"\n",
    "\n",
    "pattern = r'[cmf]an';\n",
    "\n",
    "m = re.compile(pattern, re.MULTILINE);\n",
    "\n",
    "m.findall(test_str)"
   ]
  },
  {
   "cell_type": "code",
   "execution_count": 18,
   "metadata": {},
   "outputs": [
    {
     "data": {
      "text/plain": [
       "['abc.', '123.', '?=+.']"
      ]
     },
     "execution_count": 18,
     "metadata": {},
     "output_type": "execute_result"
    }
   ],
   "source": [
    "test_str = \"\"\"\n",
    "abc.\n",
    "123.\n",
    "?=+.\n",
    "abc1\n",
    "\"\"\";\n",
    "\n",
    "pattern = r'...\\.';\n",
    "\n",
    "m = re.compile(pattern, re.MULTILINE);\n",
    "\n",
    "m.findall(test_str)"
   ]
  },
  {
   "cell_type": "code",
   "execution_count": 19,
   "metadata": {},
   "outputs": [
    {
     "name": "stdout",
     "output_type": "stream",
     "text": [
      "['carefully']\n"
     ]
    }
   ],
   "source": [
    "test_pattern23 = re.compile(r\"careful{0,2}y\")\n",
    "print(test_pattern23.findall(text))"
   ]
  },
  {
   "cell_type": "code",
   "execution_count": 20,
   "metadata": {},
   "outputs": [
    {
     "data": {
      "text/plain": [
       "['aaaabcc', 'aabbbbc', 'aacc']"
      ]
     },
     "execution_count": 20,
     "metadata": {},
     "output_type": "execute_result"
    }
   ],
   "source": [
    "test_str = \"\"\"\n",
    "aaaabcc\n",
    "aabbbbc\n",
    "aacc\n",
    "a\n",
    "\"\"\";\n",
    "\n",
    "pattern = r'aa+b*c+';\n",
    "\n",
    "m = re.compile(pattern, re.MULTILINE);\n",
    "\n",
    "m.findall(test_str)"
   ]
  },
  {
   "cell_type": "code",
   "execution_count": 21,
   "metadata": {},
   "outputs": [
    {
     "data": {
      "text/plain": [
       "['1 file found?', '2 files found?', '24 files found?']"
      ]
     },
     "execution_count": 21,
     "metadata": {},
     "output_type": "execute_result"
    }
   ],
   "source": [
    "test_str = \"\"\"\n",
    "1 file found?\n",
    "2 files found?\n",
    "24 files found?\n",
    "No files found.\n",
    "\"\"\";\n",
    "\n",
    "pattern = r'\\d+ files? found\\?';\n",
    "\n",
    "m = re.compile(pattern, re.MULTILINE);\n",
    "\n",
    "m.findall(test_str)"
   ]
  },
  {
   "cell_type": "code",
   "execution_count": 22,
   "metadata": {},
   "outputs": [
    {
     "data": {
      "text/plain": [
       "['1.  abc', '2.    abc', '3.       abc']"
      ]
     },
     "execution_count": 22,
     "metadata": {},
     "output_type": "execute_result"
    }
   ],
   "source": [
    "test_str = \"\"\"\n",
    "1.  abc\n",
    "2.    abc\n",
    "3.       abc\n",
    "4.abc\n",
    "\"\"\"\n",
    "\n",
    "pattern = r'\\d\\.\\s+abc';\n",
    "\n",
    "m = re.compile(pattern, re.MULTILINE);\n",
    "\n",
    "m.findall(test_str)"
   ]
  },
  {
   "cell_type": "code",
   "execution_count": 23,
   "metadata": {},
   "outputs": [
    {
     "name": "stdout",
     "output_type": "stream",
     "text": [
      "Match result: <re.Match object; span=(0, 3), match='abc'>\n",
      "Search result: <re.Match object; span=(0, 3), match='abc'>\n",
      "Findall result: ['abc', 'def', '123']\n"
     ]
    }
   ],
   "source": [
    "test_str = \"abc def 123\"\n",
    "\n",
    "pattern = \"abc|def|123\";\n",
    "\n",
    "p = re.compile(pattern);\n",
    "\n",
    "m = p.match(test_str);\n",
    "print(\"Match result:\", m)\n",
    "\n",
    "m = p.search(test_str);\n",
    "print(\"Search result:\", m)\n",
    "\n",
    "m = p.findall(test_str);\n",
    "print(\"Findall result:\", m)"
   ]
  },
  {
   "cell_type": "code",
   "execution_count": 24,
   "metadata": {},
   "outputs": [
    {
     "name": "stdout",
     "output_type": "stream",
     "text": [
      "Match result: <re.Match object; span=(0, 15), match='abc abc 123 123'>\n",
      "Search result: <re.Match object; span=(0, 15), match='abc abc 123 123'>\n",
      "Findall result: [('abc', '123')]\n"
     ]
    },
    {
     "data": {
      "text/plain": [
       "'abcde abcde 123 123'"
      ]
     },
     "execution_count": 24,
     "metadata": {},
     "output_type": "execute_result"
    }
   ],
   "source": [
    "test_str = \"abc abc 123 123\"\n",
    "\n",
    "pattern = r'(abc) \\1 (123) \\2';\n",
    "\n",
    "p = re.compile(pattern);\n",
    "\n",
    "m = p.match(test_str);\n",
    "print(\"Match result:\", m)\n",
    "\n",
    "m = p.search(test_str);\n",
    "print(\"Search result:\", m)\n",
    "\n",
    "m = p.findall(test_str);\n",
    "print(\"Findall result:\", m)\n",
    "\n",
    "re.sub(r\"(abc)\",r\"\\1de\",test_str)"
   ]
  },
  {
   "cell_type": "code",
   "execution_count": 25,
   "metadata": {},
   "outputs": [
    {
     "name": "stdout",
     "output_type": "stream",
     "text": [
      "Group no: 0, Group Span: (1, 14), match: May 2nd, 1998\n",
      "Group No: 1, group span: (1, 14), match: May 2nd, 1998\n",
      "Group No: 2, group span: (1, 4), match: May\n",
      "Group No: 3, group span: (5, 8), match: 2nd\n",
      "Group No: 4, group span: (10, 14), match: 1998\n"
     ]
    }
   ],
   "source": [
    "test_str = \"\"\"\n",
    "May 2nd, 1998\n",
    "Jun 3rd, 2002\n",
    "\"\"\"\n",
    "\n",
    "pattern = \"((\\w+) (\\d\\w{2}), (\\d+))\"\n",
    "\n",
    "p = re.compile(pattern);\n",
    "\n",
    "m = p.search(test_str);\n",
    "\n",
    "print(\"Group no: 0, Group Span: %s, match: %s\" % (m.span(0), m.group(0)));\n",
    "\n",
    "for gnum in range(1, len(m.groups())+1):\n",
    "  print(\"Group No: %d, group span: %s, match: %s\" % ( gnum, m.span(gnum), m.group(gnum)));"
   ]
  },
  {
   "cell_type": "code",
   "execution_count": null,
   "metadata": {},
   "outputs": [],
   "source": []
  }
 ],
 "metadata": {
  "kernelspec": {
   "display_name": "Python 3",
   "language": "python",
   "name": "python3"
  },
  "language_info": {
   "codemirror_mode": {
    "name": "ipython",
    "version": 3
   },
   "file_extension": ".py",
   "mimetype": "text/x-python",
   "name": "python",
   "nbconvert_exporter": "python",
   "pygments_lexer": "ipython3",
   "version": "3.11.0"
  }
 },
 "nbformat": 4,
 "nbformat_minor": 2
}
