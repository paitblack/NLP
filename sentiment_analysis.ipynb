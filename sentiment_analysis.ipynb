{
 "cells": [
  {
   "cell_type": "markdown",
   "metadata": {},
   "source": [
    "#### Lexicon based methods"
   ]
  },
  {
   "cell_type": "code",
   "execution_count": 1,
   "metadata": {},
   "outputs": [
    {
     "name": "stderr",
     "output_type": "stream",
     "text": [
      "[nltk_data] Downloading package vader_lexicon to\n",
      "[nltk_data]     C:\\Users\\emre-\\AppData\\Roaming\\nltk_data...\n",
      "[nltk_data]   Package vader_lexicon is already up-to-date!\n"
     ]
    },
    {
     "data": {
      "text/plain": [
       "True"
      ]
     },
     "execution_count": 1,
     "metadata": {},
     "output_type": "execute_result"
    }
   ],
   "source": [
    "#VADER\n",
    "\n",
    "import nltk\n",
    "\n",
    "nltk.download('vader_lexicon')"
   ]
  },
  {
   "cell_type": "code",
   "execution_count": 3,
   "metadata": {},
   "outputs": [
    {
     "name": "stdout",
     "output_type": "stream",
     "text": [
      "{'neg': 0.0, 'neu': 0.449, 'pos': 0.551, 'compound': 0.8622}\n"
     ]
    }
   ],
   "source": [
    "from nltk.sentiment.vader import SentimentIntensityAnalyzer\n",
    "\n",
    "sia = SentimentIntensityAnalyzer()\n",
    "\n",
    "def vader_sentiment(text):\n",
    "    return sia.polarity_scores(text)\n",
    "\n",
    "text = \"It was awesome! I love the movie too much :))\"\n",
    "\n",
    "vader_scores = vader_sentiment(text=text)\n",
    "print(vader_scores)"
   ]
  },
  {
   "cell_type": "code",
   "execution_count": 4,
   "metadata": {},
   "outputs": [
    {
     "name": "stderr",
     "output_type": "stream",
     "text": [
      "[nltk_data] Downloading package sentiwordnet to\n",
      "[nltk_data]     C:\\Users\\emre-\\AppData\\Roaming\\nltk_data...\n",
      "[nltk_data]   Unzipping corpora\\sentiwordnet.zip.\n",
      "[nltk_data] Downloading package wordnet to\n",
      "[nltk_data]     C:\\Users\\emre-\\AppData\\Roaming\\nltk_data...\n"
     ]
    },
    {
     "data": {
      "text/plain": [
       "True"
      ]
     },
     "execution_count": 4,
     "metadata": {},
     "output_type": "execute_result"
    }
   ],
   "source": [
    "#SentiWordNet\n",
    "\n",
    "import nltk\n",
    "\n",
    "nltk.download('sentiwordnet')\n",
    "nltk.download('wordnet')"
   ]
  },
  {
   "cell_type": "code",
   "execution_count": 6,
   "metadata": {},
   "outputs": [
    {
     "name": "stdout",
     "output_type": "stream",
     "text": [
      "{'positivity': 0.875, 'negativity': 0.0, 'objectivity': 0.125}\n"
     ]
    }
   ],
   "source": [
    "from nltk.corpus import sentiwordnet as swn\n",
    "\n",
    "def sentiwodnet_sentiment(text):\n",
    "    synsets = list(swn.senti_synsets(text))\n",
    "    if not synsets:\n",
    "        return None\n",
    "\n",
    "    synsets = synsets[0]\n",
    "    return {\n",
    "        'positivity': synsets.pos_score(),\n",
    "        'negativity': synsets.neg_score(),\n",
    "        'objectivity': synsets.obj_score()\n",
    "    }\n",
    "\n",
    "word = \"happy\"\n",
    "sent_score = sentiwodnet_sentiment(word)\n",
    "print(sent_score)"
   ]
  },
  {
   "cell_type": "code",
   "execution_count": null,
   "metadata": {},
   "outputs": [],
   "source": [
    "# AFINN\n",
    "\n",
    "from afinn import Afinn\n",
    "\n",
    "afinn = Afinn()\n",
    "\n",
    "def get_afinn_sentiment(sentence):\n",
    "    return afinn.score(sentence)\n",
    "\n",
    "sentence = \"The movie was fantastic!\"\n",
    "afinn_score = get_afinn_sentiment(sentence)\n",
    "print(f\"AFINN score for '{sentence}': {afinn_score}\")\n",
    "\n",
    "#afinn is a list of Eng words rated for valance with an integer between -5 and +5.\n"
   ]
  },
  {
   "cell_type": "code",
   "execution_count": 9,
   "metadata": {},
   "outputs": [
    {
     "name": "stdout",
     "output_type": "stream",
     "text": [
      "Overall sentiment scores for the text: {'positivity': 0.075, 'negativity': 0.0, 'objectivity': 0.925}\n"
     ]
    }
   ],
   "source": [
    "# Analysing an entire text using SentiWordNet\n",
    "\n",
    "import nltk\n",
    "from nltk.corpus import sentiwordnet as swn\n",
    "from nltk.tokenize import word_tokenize\n",
    "from nltk.corpus import stopwords\n",
    "from nltk.stem import WordNetLemmatizer\n",
    "\n",
    "lemmatizer = WordNetLemmatizer()\n",
    "stop_words = set(stopwords.words('english'))\n",
    "\n",
    "def analyze_text_sentiwordnet(text):\n",
    "    words = word_tokenize(text)\n",
    "    filtered_words = [lemmatizer.lemmatize(word.lower()) for word in words if word.isalpha() and word.lower() not in stop_words]\n",
    "\n",
    "    total_words = 0\n",
    "    total_scores = {'positivity':0.0,'negativity': 0.0, 'objectivity': 0.0}\n",
    "\n",
    "    for word in filtered_words:\n",
    "        total_words += 1\n",
    "        scores = sentiwodnet_sentiment(word)\n",
    "        if scores:\n",
    "            total_scores['positivity'] += scores['positivity']\n",
    "            total_scores['negativity'] += scores['negativity']\n",
    "            total_scores['objectivity'] += scores['objectivity']\n",
    "    \n",
    "    total_scores['positivity'] /= total_words\n",
    "    total_scores['negativity'] /= total_words\n",
    "    total_scores['objectivity'] /= total_words\n",
    "\n",
    "    return total_scores\n",
    "\n",
    "text = \"The movie was fantastic! The plot was engaging and the characters were well-developed.\"\n",
    "overall_scores = analyze_text_sentiwordnet(text)\n",
    "print(f\"Overall sentiment scores for the text: {overall_scores}\")\n"
   ]
  },
  {
   "cell_type": "code",
   "execution_count": null,
   "metadata": {},
   "outputs": [],
   "source": []
  }
 ],
 "metadata": {
  "kernelspec": {
   "display_name": "Python 3",
   "language": "python",
   "name": "python3"
  },
  "language_info": {
   "codemirror_mode": {
    "name": "ipython",
    "version": 3
   },
   "file_extension": ".py",
   "mimetype": "text/x-python",
   "name": "python",
   "nbconvert_exporter": "python",
   "pygments_lexer": "ipython3",
   "version": "3.11.0"
  }
 },
 "nbformat": 4,
 "nbformat_minor": 2
}
